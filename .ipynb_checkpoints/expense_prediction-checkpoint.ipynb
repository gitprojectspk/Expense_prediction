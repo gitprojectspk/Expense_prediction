{
 "cells": [
  {
   "cell_type": "code",
   "execution_count": 24,
   "id": "87bf7f4e",
   "metadata": {},
   "outputs": [],
   "source": [
    "################################Step 1 - Import data############################################\n",
    "import pandas as pd\n",
    "MyData = pd.read_csv(\"Income_Expense_Data.csv\")"
   ]
  },
  {
   "cell_type": "code",
   "execution_count": 25,
   "id": "5d6a426b",
   "metadata": {},
   "outputs": [
    {
     "data": {
      "text/plain": [
       "(14, 3)"
      ]
     },
     "execution_count": 25,
     "metadata": {},
     "output_type": "execute_result"
    }
   ],
   "source": [
    "#Checking Size of data\n",
    "MyData.shape"
   ]
  },
  {
   "cell_type": "code",
   "execution_count": 26,
   "id": "b34dbcb5",
   "metadata": {},
   "outputs": [
    {
     "data": {
      "text/html": [
       "<div>\n",
       "<style scoped>\n",
       "    .dataframe tbody tr th:only-of-type {\n",
       "        vertical-align: middle;\n",
       "    }\n",
       "\n",
       "    .dataframe tbody tr th {\n",
       "        vertical-align: top;\n",
       "    }\n",
       "\n",
       "    .dataframe thead th {\n",
       "        text-align: right;\n",
       "    }\n",
       "</style>\n",
       "<table border=\"1\" class=\"dataframe\">\n",
       "  <thead>\n",
       "    <tr style=\"text-align: right;\">\n",
       "      <th></th>\n",
       "      <th>Age</th>\n",
       "      <th>Income</th>\n",
       "      <th>Expense</th>\n",
       "    </tr>\n",
       "  </thead>\n",
       "  <tbody>\n",
       "    <tr>\n",
       "      <th>0</th>\n",
       "      <td>25</td>\n",
       "      <td>40000.0</td>\n",
       "      <td>20000</td>\n",
       "    </tr>\n",
       "    <tr>\n",
       "      <th>1</th>\n",
       "      <td>26</td>\n",
       "      <td>35000.0</td>\n",
       "      <td>18000</td>\n",
       "    </tr>\n",
       "    <tr>\n",
       "      <th>2</th>\n",
       "      <td>27</td>\n",
       "      <td>90000.0</td>\n",
       "      <td>60000</td>\n",
       "    </tr>\n",
       "    <tr>\n",
       "      <th>3</th>\n",
       "      <td>32</td>\n",
       "      <td>70000.0</td>\n",
       "      <td>28000</td>\n",
       "    </tr>\n",
       "    <tr>\n",
       "      <th>4</th>\n",
       "      <td>31</td>\n",
       "      <td>75000.0</td>\n",
       "      <td>32000</td>\n",
       "    </tr>\n",
       "    <tr>\n",
       "      <th>5</th>\n",
       "      <td>30</td>\n",
       "      <td>71000.0</td>\n",
       "      <td>30000</td>\n",
       "    </tr>\n",
       "    <tr>\n",
       "      <th>6</th>\n",
       "      <td>47</td>\n",
       "      <td>NaN</td>\n",
       "      <td>25000</td>\n",
       "    </tr>\n",
       "    <tr>\n",
       "      <th>7</th>\n",
       "      <td>125</td>\n",
       "      <td>76000.0</td>\n",
       "      <td>30000</td>\n",
       "    </tr>\n",
       "    <tr>\n",
       "      <th>8</th>\n",
       "      <td>49</td>\n",
       "      <td>56000.0</td>\n",
       "      <td>16000</td>\n",
       "    </tr>\n",
       "    <tr>\n",
       "      <th>9</th>\n",
       "      <td>55</td>\n",
       "      <td>67000.0</td>\n",
       "      <td>20000</td>\n",
       "    </tr>\n",
       "  </tbody>\n",
       "</table>\n",
       "</div>"
      ],
      "text/plain": [
       "   Age   Income  Expense\n",
       "0   25  40000.0    20000\n",
       "1   26  35000.0    18000\n",
       "2   27  90000.0    60000\n",
       "3   32  70000.0    28000\n",
       "4   31  75000.0    32000\n",
       "5   30  71000.0    30000\n",
       "6   47      NaN    25000\n",
       "7  125  76000.0    30000\n",
       "8   49  56000.0    16000\n",
       "9   55  67000.0    20000"
      ]
     },
     "execution_count": 26,
     "metadata": {},
     "output_type": "execute_result"
    }
   ],
   "source": [
    "#Checking first few records\n",
    "MyData.head(10)"
   ]
  },
  {
   "cell_type": "code",
   "execution_count": 27,
   "id": "6d634572",
   "metadata": {},
   "outputs": [
    {
     "data": {
      "text/plain": [
       "Age        0\n",
       "Income     1\n",
       "Expense    0\n",
       "dtype: int64"
      ]
     },
     "execution_count": 27,
     "metadata": {},
     "output_type": "execute_result"
    }
   ],
   "source": [
    "################Step 2-Data Cleaning#######################\n",
    "#Check for missing values\n",
    "MyData.isnull().sum() "
   ]
  },
  {
   "cell_type": "code",
   "execution_count": 28,
   "id": "403870dc",
   "metadata": {},
   "outputs": [],
   "source": [
    "#Treating null value-replacing null value with median\n",
    "MyData[\"Income\"].fillna((MyData[\"Income\"].median()), inplace = True)"
   ]
  },
  {
   "cell_type": "code",
   "execution_count": 29,
   "id": "35203b70",
   "metadata": {},
   "outputs": [
    {
     "data": {
      "text/plain": [
       "Age        0\n",
       "Income     0\n",
       "Expense    0\n",
       "dtype: int64"
      ]
     },
     "execution_count": 29,
     "metadata": {},
     "output_type": "execute_result"
    }
   ],
   "source": [
    "#Check for missing values - Again\n",
    "MyData.isnull().sum()"
   ]
  },
  {
   "cell_type": "code",
   "execution_count": 30,
   "id": "ea4b5e6a",
   "metadata": {},
   "outputs": [
    {
     "data": {
      "text/html": [
       "<div>\n",
       "<style scoped>\n",
       "    .dataframe tbody tr th:only-of-type {\n",
       "        vertical-align: middle;\n",
       "    }\n",
       "\n",
       "    .dataframe tbody tr th {\n",
       "        vertical-align: top;\n",
       "    }\n",
       "\n",
       "    .dataframe thead th {\n",
       "        text-align: right;\n",
       "    }\n",
       "</style>\n",
       "<table border=\"1\" class=\"dataframe\">\n",
       "  <thead>\n",
       "    <tr style=\"text-align: right;\">\n",
       "      <th></th>\n",
       "      <th>Age</th>\n",
       "      <th>Income</th>\n",
       "      <th>Expense</th>\n",
       "    </tr>\n",
       "  </thead>\n",
       "  <tbody>\n",
       "    <tr>\n",
       "      <th>count</th>\n",
       "      <td>14.000000</td>\n",
       "      <td>14.000000</td>\n",
       "      <td>14.000000</td>\n",
       "    </tr>\n",
       "    <tr>\n",
       "      <th>mean</th>\n",
       "      <td>48.500000</td>\n",
       "      <td>65357.142857</td>\n",
       "      <td>25285.714286</td>\n",
       "    </tr>\n",
       "    <tr>\n",
       "      <th>std</th>\n",
       "      <td>25.928155</td>\n",
       "      <td>17032.128657</td>\n",
       "      <td>11795.883059</td>\n",
       "    </tr>\n",
       "    <tr>\n",
       "      <th>min</th>\n",
       "      <td>25.000000</td>\n",
       "      <td>35000.000000</td>\n",
       "      <td>11000.000000</td>\n",
       "    </tr>\n",
       "    <tr>\n",
       "      <th>25%</th>\n",
       "      <td>30.250000</td>\n",
       "      <td>56000.000000</td>\n",
       "      <td>18500.000000</td>\n",
       "    </tr>\n",
       "    <tr>\n",
       "      <th>50%</th>\n",
       "      <td>48.000000</td>\n",
       "      <td>70000.000000</td>\n",
       "      <td>24500.000000</td>\n",
       "    </tr>\n",
       "    <tr>\n",
       "      <th>75%</th>\n",
       "      <td>55.750000</td>\n",
       "      <td>75750.000000</td>\n",
       "      <td>29500.000000</td>\n",
       "    </tr>\n",
       "    <tr>\n",
       "      <th>max</th>\n",
       "      <td>125.000000</td>\n",
       "      <td>90000.000000</td>\n",
       "      <td>60000.000000</td>\n",
       "    </tr>\n",
       "  </tbody>\n",
       "</table>\n",
       "</div>"
      ],
      "text/plain": [
       "              Age        Income       Expense\n",
       "count   14.000000     14.000000     14.000000\n",
       "mean    48.500000  65357.142857  25285.714286\n",
       "std     25.928155  17032.128657  11795.883059\n",
       "min     25.000000  35000.000000  11000.000000\n",
       "25%     30.250000  56000.000000  18500.000000\n",
       "50%     48.000000  70000.000000  24500.000000\n",
       "75%     55.750000  75750.000000  29500.000000\n",
       "max    125.000000  90000.000000  60000.000000"
      ]
     },
     "execution_count": 30,
     "metadata": {},
     "output_type": "execute_result"
    }
   ],
   "source": [
    "#Checking for outliers\n",
    "MyData.describe()  #notice the maximum value in Age"
   ]
  },
  {
   "cell_type": "code",
   "execution_count": 31,
   "id": "202aadfb",
   "metadata": {},
   "outputs": [
    {
     "data": {
      "text/html": [
       "<div>\n",
       "<style scoped>\n",
       "    .dataframe tbody tr th:only-of-type {\n",
       "        vertical-align: middle;\n",
       "    }\n",
       "\n",
       "    .dataframe tbody tr th {\n",
       "        vertical-align: top;\n",
       "    }\n",
       "\n",
       "    .dataframe thead th {\n",
       "        text-align: right;\n",
       "    }\n",
       "</style>\n",
       "<table border=\"1\" class=\"dataframe\">\n",
       "  <thead>\n",
       "    <tr style=\"text-align: right;\">\n",
       "      <th></th>\n",
       "      <th>Age</th>\n",
       "    </tr>\n",
       "  </thead>\n",
       "  <tbody>\n",
       "    <tr>\n",
       "      <th>count</th>\n",
       "      <td>14.000000</td>\n",
       "    </tr>\n",
       "    <tr>\n",
       "      <th>mean</th>\n",
       "      <td>48.500000</td>\n",
       "    </tr>\n",
       "    <tr>\n",
       "      <th>std</th>\n",
       "      <td>25.928155</td>\n",
       "    </tr>\n",
       "    <tr>\n",
       "      <th>min</th>\n",
       "      <td>25.000000</td>\n",
       "    </tr>\n",
       "    <tr>\n",
       "      <th>1%</th>\n",
       "      <td>25.130000</td>\n",
       "    </tr>\n",
       "    <tr>\n",
       "      <th>10%</th>\n",
       "      <td>26.300000</td>\n",
       "    </tr>\n",
       "    <tr>\n",
       "      <th>30%</th>\n",
       "      <td>30.900000</td>\n",
       "    </tr>\n",
       "    <tr>\n",
       "      <th>50%</th>\n",
       "      <td>48.000000</td>\n",
       "    </tr>\n",
       "    <tr>\n",
       "      <th>75%</th>\n",
       "      <td>55.750000</td>\n",
       "    </tr>\n",
       "    <tr>\n",
       "      <th>90%</th>\n",
       "      <td>61.400000</td>\n",
       "    </tr>\n",
       "    <tr>\n",
       "      <th>99%</th>\n",
       "      <td>116.810000</td>\n",
       "    </tr>\n",
       "    <tr>\n",
       "      <th>100%</th>\n",
       "      <td>125.000000</td>\n",
       "    </tr>\n",
       "    <tr>\n",
       "      <th>max</th>\n",
       "      <td>125.000000</td>\n",
       "    </tr>\n",
       "  </tbody>\n",
       "</table>\n",
       "</div>"
      ],
      "text/plain": [
       "              Age\n",
       "count   14.000000\n",
       "mean    48.500000\n",
       "std     25.928155\n",
       "min     25.000000\n",
       "1%      25.130000\n",
       "10%     26.300000\n",
       "30%     30.900000\n",
       "50%     48.000000\n",
       "75%     55.750000\n",
       "90%     61.400000\n",
       "99%    116.810000\n",
       "100%   125.000000\n",
       "max    125.000000"
      ]
     },
     "execution_count": 31,
     "metadata": {},
     "output_type": "execute_result"
    }
   ],
   "source": [
    "#Checking different percentiles\n",
    "pd.DataFrame(MyData['Age']).describe(percentiles=(1,0.99,0.9,0.75,0.5,0.3,0.1,0.01))"
   ]
  },
  {
   "cell_type": "code",
   "execution_count": 32,
   "id": "1a9ec3b6",
   "metadata": {},
   "outputs": [
    {
     "data": {
      "image/png": "[encoded data removed]",
      "text/plain": [
       "<Figure size 432x288 with 1 Axes>"
      ]
     },
     "metadata": {
      "needs_background": "light"
     },
     "output_type": "display_data"
    }
   ],
   "source": [
    "#checking boxplot for Age column\n",
    "import matplotlib.pyplot as plt\n",
    "get_ipython().run_line_magic('matplotlib', 'inline')\n",
    "plt.boxplot(MyData['Age'])\n",
    "plt.show()"
   ]
  },
  {
   "cell_type": "code",
   "execution_count": 33,
   "id": "b710b423",
   "metadata": {},
   "outputs": [],
   "source": [
    "#Checking Outlier by definition and treating outliers\n",
    "\n",
    "#getting median Age\n",
    "Age_col_df = pd.DataFrame(MyData['Age'])\n",
    "Age_median = Age_col_df.median()\n",
    "\n",
    "#getting IQR of Age column\n",
    "Q3 = Age_col_df.quantile(q=0.75)\n",
    "Q1 = Age_col_df.quantile(q=0.25)\n",
    "IQR = Q3-Q1\n",
    "\n",
    "#Deriving boundaries of Outliers\n",
    "IQR_LL = int(Q1 - 1.5*IQR)\n",
    "IQR_UL = int(Q3 + 1.5*IQR)\n",
    "\n",
    "#Finding and treating outliers - both lower and upper end\n",
    "MyData.loc[MyData['Age']>IQR_UL , 'Age'] = int(Age_col_df.quantile(q=0.99))\n",
    "MyData.loc[MyData['Age']<IQR_LL , 'Age'] = int(Age_col_df.quantile(q=0.01))"
   ]
  },
  {
   "cell_type": "code",
   "execution_count": 34,
   "id": "d116e4da",
   "metadata": {},
   "outputs": [
    {
     "data": {
      "text/plain": [
       "116"
      ]
     },
     "execution_count": 34,
     "metadata": {},
     "output_type": "execute_result"
    }
   ],
   "source": [
    "#Check max age value now\n",
    "max(MyData['Age'])"
   ]
  },
  {
   "cell_type": "code",
   "execution_count": 35,
   "id": "cc95ae49",
   "metadata": {},
   "outputs": [
    {
     "data": {
      "text/plain": [
       "<matplotlib.collections.PathCollection at 0x223e8a392b0>"
      ]
     },
     "execution_count": 35,
     "metadata": {},
     "output_type": "execute_result"
    },
    {
     "data": {
      "image/png": "[encoded data removed]",
      "text/plain": [
       "<Figure size 432x288 with 1 Axes>"
      ]
     },
     "metadata": {
      "needs_background": "light"
     },
     "output_type": "display_data"
    }
   ],
   "source": [
    "################Step 3-Exploratory data analysis#######################\n",
    "#Check how Expense is varying with income\n",
    "x = MyData[\"Income\"]\n",
    "y=  MyData[\"Expense\"]\n",
    "\n",
    "\n",
    "plt.scatter(x, y, label=\"Income Expense\")"
   ]
  },
  {
   "cell_type": "code",
   "execution_count": 36,
   "id": "6f806a2c",
   "metadata": {},
   "outputs": [
    {
     "data": {
      "text/plain": [
       "<matplotlib.collections.PathCollection at 0x223e8a8f250>"
      ]
     },
     "execution_count": 36,
     "metadata": {},
     "output_type": "execute_result"
    },
    {
     "data": {
      "image/png": "[encoded data removed]",
      "text/plain": [
       "<Figure size 432x288 with 1 Axes>"
      ]
     },
     "metadata": {
      "needs_background": "light"
     },
     "output_type": "display_data"
    }
   ],
   "source": [
    "#Check how Expense is varying with Age\n",
    "x = MyData[\"Age\"]\n",
    "y=  MyData[\"Expense\"]\n",
    "\n",
    "\n",
    "plt.scatter(x, y, label=\"Income Age\")"
   ]
  },
  {
   "cell_type": "code",
   "execution_count": 37,
   "id": "d9d05279",
   "metadata": {},
   "outputs": [
    {
     "data": {
      "text/plain": [
       "<AxesSubplot:>"
      ]
     },
     "execution_count": 37,
     "metadata": {},
     "output_type": "execute_result"
    },
    {
     "data": {
      "image/png": "[encoded data removed]",
      "text/plain": [
       "<Figure size 576x288 with 2 Axes>"
      ]
     },
     "metadata": {
      "needs_background": "light"
     },
     "output_type": "display_data"
    }
   ],
   "source": [
    "#check correltion matrix - to check the strength of variation bwtween two variables\n",
    "correlation_matrix= MyData.corr().round(2)\n",
    "f, ax = plt.subplots(figsize =(8, 4)) \n",
    "import seaborn as sns\n",
    "sns.heatmap(data=correlation_matrix, annot=True)"
   ]
  },
  {
   "cell_type": "code",
   "execution_count": 38,
   "id": "7ceec1d9",
   "metadata": {},
   "outputs": [
    {
     "data": {
      "text/plain": [
       "array([[0.        , 0.09090909, 0.18367347],\n",
       "       [0.01098901, 0.        , 0.14285714],\n",
       "       [0.02197802, 1.        , 1.        ],\n",
       "       [0.07692308, 0.63636364, 0.34693878],\n",
       "       [0.06593407, 0.72727273, 0.42857143],\n",
       "       [0.05494505, 0.65454545, 0.3877551 ],\n",
       "       [0.24175824, 0.63636364, 0.28571429],\n",
       "       [1.        , 0.74545455, 0.3877551 ],\n",
       "       [0.26373626, 0.38181818, 0.10204082],\n",
       "       [0.32967033, 0.58181818, 0.18367347],\n",
       "       [0.31868132, 0.81818182, 0.26530612],\n",
       "       [0.34065934, 0.92727273, 0.28571429],\n",
       "       [0.38461538, 0.38181818, 0.08163265],\n",
       "       [0.40659341, 0.14545455, 0.        ]])"
      ]
     },
     "execution_count": 38,
     "metadata": {},
     "output_type": "execute_result"
    }
   ],
   "source": [
    "################Step 4-feature engineering#######################\n",
    "#Normalization/scaling of data - understanding scaling\n",
    "from sklearn.preprocessing import MinMaxScaler\n",
    "scaler = MinMaxScaler()\n",
    "scaled_data = scaler.fit_transform(MyData)\n",
    "scaled_data"
   ]
  },
  {
   "cell_type": "code",
   "execution_count": 39,
   "id": "049e593b",
   "metadata": {},
   "outputs": [],
   "source": [
    "#converting data back to pandas dataframe\n",
    "MyData_scaled = pd.DataFrame(scaled_data)\n",
    "MyData_scaled.columns = [\"Age\",\"Income\",\"Expense\"]"
   ]
  },
  {
   "cell_type": "code",
   "execution_count": 40,
   "id": "0a741642",
   "metadata": {},
   "outputs": [],
   "source": [
    "#Separating features and response\n",
    "features = [\"Income\",\"Age\"]\n",
    "response = [\"Expense\"]\n",
    "X=MyData_scaled[features]\n",
    "y=MyData_scaled[response]"
   ]
  },
  {
   "cell_type": "code",
   "execution_count": 41,
   "id": "dd56fee6",
   "metadata": {},
   "outputs": [],
   "source": [
    "#Dividing data in test and train\n",
    "from sklearn.model_selection import train_test_split\n",
    "X_train, X_test, y_train, y_test = train_test_split(X, y, test_size=0.2, random_state=0)\n",
    "\n",
    "#Importing neccesary packages\n",
    "from sklearn.linear_model import LinearRegression\n",
    "from sklearn import metrics"
   ]
  },
  {
   "cell_type": "code",
   "execution_count": 42,
   "id": "d9e8c0fd",
   "metadata": {},
   "outputs": [
    {
     "name": "stdout",
     "output_type": "stream",
     "text": [
      "67.82333705931674 %\n"
     ]
    },
    {
     "data": {
      "text/plain": [
       "array([[0.20244557],\n",
       "       [0.35979061],\n",
       "       [0.4694941 ]])"
      ]
     },
     "execution_count": 42,
     "metadata": {},
     "output_type": "execute_result"
    }
   ],
   "source": [
    "#Fitting lineaar regression model\n",
    "model = LinearRegression()\n",
    "model.fit(X_train, y_train)\n",
    "\n",
    "#Checking accuracy on test data\n",
    "accuracy = model.score(X_test,y_test)\n",
    "print(accuracy*100,'%')\n",
    "\n",
    "model.predict(X_test) #predcited values on test data"
   ]
  },
  {
   "cell_type": "code",
   "execution_count": 43,
   "id": "415a6e7f",
   "metadata": {},
   "outputs": [],
   "source": [
    "#Dumping the model object\n",
    "import pickle\n",
    "pickle.dump(model, open('expense_prediction.pkl','wb'))"
   ]
  },
  {
   "cell_type": "code",
   "execution_count": 44,
   "id": "4c85b3ac",
   "metadata": {},
   "outputs": [
    {
     "name": "stdout",
     "output_type": "stream",
     "text": [
      "[[17711.51531007]]\n"
     ]
    },
    {
     "name": "stderr",
     "output_type": "stream",
     "text": [
      "C:\\Users\\priya\\anaconda3\\lib\\site-packages\\sklearn\\base.py:450: UserWarning: X does not have valid feature names, but LinearRegression was fitted with feature names\n",
      "  warnings.warn(\n"
     ]
    }
   ],
   "source": [
    "#Reloading the model object\n",
    "model = pickle.load(open('expense_prediction.pkl','rb'))\n",
    "print(model.predict([[30000, 24]]))"
   ]
  }
 ],
 "metadata": {
  "kernelspec": {
   "display_name": "Python 3",
   "language": "python",
   "name": "python3"
  },
  "language_info": {
   "codemirror_mode": {
    "name": "ipython",
    "version": 3
   },
   "file_extension": ".py",
   "mimetype": "text/x-python",
   "name": "python",
   "nbconvert_exporter": "python",
   "pygments_lexer": "ipython3",
   "version": "3.8.8"
  }
 },
 "nbformat": 4,
 "nbformat_minor": 5
}
